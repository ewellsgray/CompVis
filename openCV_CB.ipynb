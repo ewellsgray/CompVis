{
 "cells": [
  {
   "cell_type": "markdown",
   "metadata": {},
   "source": [
    "# OpenCV Cookbook\n",
    "\n",
    "This is a cookbook for OpenCV, a library aimed at real-time computer vision and image processing applications. "
   ]
  },
  {
   "cell_type": "markdown",
   "metadata": {},
   "source": [
    "### Part 1\n",
    "\n",
    "This first section covers basic image read/write and display. This is taken largely from the OpenCV documentation. You'll note there are some calls to matplotlib.pyplot. Basic image display can be accomplished using various packages (e.g. Pyplot, Seaborn, Pillow) \n",
    "\n",
    "Links:\n",
    "\n",
    "OpenCV: https://docs.opencv.org/4.1.2/dc/d2e/tutorial_py_image_display.html\n",
    "Pyplot: https://matplotlib.org/api/pyplot_api.html\n",
    "Pillow: https://pillow.readthedocs.io/en/3.1.x/reference/Image.html"
   ]
  },
  {
   "cell_type": "code",
   "execution_count": null,
   "metadata": {},
   "outputs": [],
   "source": [
    "import numpy as np\n",
    "import cv2 as cv\n",
    "from matplotlib import pyplot as plt"
   ]
  },
  {
   "cell_type": "code",
   "execution_count": null,
   "metadata": {},
   "outputs": [],
   "source": [
    "# Load a color image in grayscale\n",
    "img = cv.imread('messi5.jpg',0)\n",
    "\n",
    "#print(img)\n",
    "\n",
    "#cv.IMREAD_COLOR (1): Loads a color image. Any transparency of image will be neglected. It is the default flag.\n",
    "#cv.IMREAD_GRAYSCALE (0): Loads image in grayscale mode\n",
    "#cv.IMREAD_UNCHANGED (-1): Loads image as such including alpha channel"
   ]
  },
  {
   "cell_type": "code",
   "execution_count": null,
   "metadata": {},
   "outputs": [],
   "source": [
    "cv.imshow('image',img)\n",
    "cv.waitKey(0)"
   ]
  },
  {
   "cell_type": "code",
   "execution_count": null,
   "metadata": {},
   "outputs": [],
   "source": [
    "cv.destroyAllWindows()\n",
    "#cv.destroyWindow()"
   ]
  },
  {
   "cell_type": "code",
   "execution_count": null,
   "metadata": {},
   "outputs": [],
   "source": [
    "All Together\n",
    "\n",
    "img = cv.imread('messi5.jpg',0)\n",
    "cv.imshow('image',img)\n",
    "k = cv.waitKey(0)\n",
    "if k == 27:         # wait for ESC key to exit\n",
    "    cv.destroyAllWindows()\n",
    "elif k == ord('s'): # wait for 's' key to save and exit\n",
    "    cv.imwrite('messigray.png',img)\n",
    "    cv.destroyAllWindows()\n",
    "    "
   ]
  },
  {
   "cell_type": "code",
   "execution_count": null,
   "metadata": {},
   "outputs": [],
   "source": [
    "img = cv.imread('messi5.jpg',0)\n",
    "plt.imshow(img, cmap = 'gray', interpolation = 'bicubic')\n",
    "plt.xticks([]), plt.yticks([])  # to hide tick values on X and Y axis\n",
    "plt.show()    \n",
    "\n",
    "# warning: open cv reads/displays images as color images as BGR; matplotlib\n",
    "# expects RGB. so images opened in opencv will not display correctly in open cv\n",
    "    "
   ]
  }
 ],
 "metadata": {
  "kernelspec": {
   "display_name": "Python 3",
   "language": "python",
   "name": "python3"
  },
  "language_info": {
   "codemirror_mode": {
    "name": "ipython",
    "version": 3
   },
   "file_extension": ".py",
   "mimetype": "text/x-python",
   "name": "python",
   "nbconvert_exporter": "python",
   "pygments_lexer": "ipython3",
   "version": "3.7.1"
  }
 },
 "nbformat": 4,
 "nbformat_minor": 2
}
